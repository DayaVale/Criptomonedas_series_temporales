{
  "nbformat": 4,
  "nbformat_minor": 5,
  "metadata": {
    "kernelspec": {
      "display_name": "Python 3",
      "language": "python",
      "name": "python3"
    },
    "language_info": {
      "codemirror_mode": {
        "name": "ipython",
        "version": 3
      },
      "file_extension": ".py",
      "mimetype": "text/x-python",
      "name": "python",
      "nbconvert_exporter": "python",
      "pygments_lexer": "ipython3",
      "version": "3.9.6"
    },
    "colab": {
      "provenance": []
    }
  },
  "cells": [
    {
      "cell_type": "markdown",
      "metadata": {
        "id": "f0458919"
      },
      "source": [
        "# Proyecto 3\n",
        "#### Integrantes\n",
        "* Dayana Valentina Gonzalez Vargas \n",
        "* Maria Fernanda Rodriguez Conde"
      ],
      "id": "f0458919"
    },
    {
      "cell_type": "markdown",
      "metadata": {
        "id": "2d188908"
      },
      "source": [
        "### Objetivo del proyecto\n",
        "Pronosticar los rendimientos a corto plazo (rendimientos residuales de 15 minutos) en 14 criptomonedas populares."
      ],
      "id": "2d188908"
    },
    {
      "cell_type": "markdown",
      "metadata": {
        "id": "ffcb773b"
      },
      "source": [
        "## Concepto importantes \n",
        "### 1. Mercado de las criptomonedas\n",
        "Las criptomonedas se han convertido en mercado extremadamente popular y volátil, que ofrece enormes rendimientos( así como perdidas) a los inversionistas. Tenemos como criptodivisas el Bitcoin (BTC), Ether (ETH) ó Dogecoin (DOGE).\n",
        "### 2. Prevision de la rentabilidad\n",
        "Con el fin de predecir como se comportaran los precios en el futuro, es decir, predecir si los precios subirán ó bajarán y en que medida los rendimientos de los activos.Se deben tener en cuenta conceptos como la extrema volatilidad de los mercados, la naturaleza no estacionaria, la manipulación del mercado y la correlación entre activos con las condiciones de mercado que cambian rapidamente.\n"
      ],
      "id": "ffcb773b"
    },
    {
      "cell_type": "markdown",
      "metadata": {
        "id": "5c089674"
      },
      "source": [
        "## Librerias"
      ],
      "id": "5c089674"
    },
    {
      "cell_type": "code",
      "metadata": {
        "colab": {
          "base_uri": "https://localhost:8080/",
          "height": 374
        },
        "id": "cf824ce6",
        "outputId": "4e161ee1-8b3d-4040-d6be-100cbd3e3c10"
      },
      "source": [
        "# Librerias\n",
        "import pandas as pd\n",
        "import numpy as np\n",
        "import matplotlib.pyplot as plt\n",
        "import seaborn as sns\n",
        "\n",
        "from pandas import Grouper\n",
        "from pandas.plotting import lag_plot\n",
        "from pandas.plotting import autocorrelation_plot\n",
        "from statsmodels.graphics.tsaplots import plot_acf\n",
        "from sklearn.metrics import mean_squared_error\n",
        "from statsmodels.tsa.seasonal import seasonal_decompose\n",
        "from statsmodels.tsa.stattools import adfuller\n",
        "from sklearn.model_selection import TimeSeriesSplit\n",
        "from statsmodels.graphics.gofplots import qqplot\n",
        "from statsmodels.tsa.ar_model import AutoReg as AR\n",
        "from statsmodels.tsa.arima.model import ARIMA\n",
        "from datetime import datetime, timedelta\n",
        "import scipy.stats as stats\n",
        "from sklearn.preprocessing import StandardScaler\n",
        "from skforecast.ForecasterAutoreg import ForecasterAutoreg\n",
        "from skforecast.model_selection import grid_search_forecaster\n",
        "from sklearn.ensemble import RandomForestRegressor\n",
        "from sklearn.metrics import mean_squared_error\n",
        "from statsmodels.tsa.statespace.sarimax import SARIMAX\n",
        "from statsmodels.tsa.statespace.mlemodel import PredictionResultsWrapper\n",
        "from fbprophet import Prophet\n",
        "#from prophet import Prophet\n",
        "from sklearn.linear_model import LinearRegression\n",
        "import xgboost as xgb\n",
        "import time\n",
        "\n",
        "import plotly.graph_objects as go\n",
        "\n",
        "import warnings\n",
        "warnings.filterwarnings('ignore')\n",
        "\n",
        "%matplotlib inline\n",
        "plt.rc('figure', figsize=(18, 3))\n",
        "pd.set_option('display.float_format', lambda x: '%.2f' % x)\n",
        "pd.options.display.max_rows = 20"
      ],
      "id": "cf824ce6",
      "execution_count": null,
      "outputs": [
        {
          "output_type": "error",
          "ename": "ImportError",
          "evalue": "ignored",
          "traceback": [
            "\u001b[0;31m---------------------------------------------------------------------------\u001b[0m",
            "\u001b[0;31mImportError\u001b[0m                               Traceback (most recent call last)",
            "\u001b[0;32m<ipython-input-8-a56899a95bd9>\u001b[0m in \u001b[0;36m<module>\u001b[0;34m()\u001b[0m\n\u001b[1;32m     14\u001b[0m \u001b[0;32mfrom\u001b[0m \u001b[0msklearn\u001b[0m\u001b[0;34m.\u001b[0m\u001b[0mmodel_selection\u001b[0m \u001b[0;32mimport\u001b[0m \u001b[0mTimeSeriesSplit\u001b[0m\u001b[0;34m\u001b[0m\u001b[0;34m\u001b[0m\u001b[0m\n\u001b[1;32m     15\u001b[0m \u001b[0;32mfrom\u001b[0m \u001b[0mstatsmodels\u001b[0m\u001b[0;34m.\u001b[0m\u001b[0mgraphics\u001b[0m\u001b[0;34m.\u001b[0m\u001b[0mgofplots\u001b[0m \u001b[0;32mimport\u001b[0m \u001b[0mqqplot\u001b[0m\u001b[0;34m\u001b[0m\u001b[0;34m\u001b[0m\u001b[0m\n\u001b[0;32m---> 16\u001b[0;31m \u001b[0;32mfrom\u001b[0m \u001b[0mstatsmodels\u001b[0m\u001b[0;34m.\u001b[0m\u001b[0mtsa\u001b[0m\u001b[0;34m.\u001b[0m\u001b[0mar_model\u001b[0m \u001b[0;32mimport\u001b[0m \u001b[0mAutoReg\u001b[0m \u001b[0;32mas\u001b[0m \u001b[0mAR\u001b[0m\u001b[0;34m\u001b[0m\u001b[0;34m\u001b[0m\u001b[0m\n\u001b[0m\u001b[1;32m     17\u001b[0m \u001b[0;32mfrom\u001b[0m \u001b[0mstatsmodels\u001b[0m\u001b[0;34m.\u001b[0m\u001b[0mtsa\u001b[0m\u001b[0;34m.\u001b[0m\u001b[0marima\u001b[0m\u001b[0;34m.\u001b[0m\u001b[0mmodel\u001b[0m \u001b[0;32mimport\u001b[0m \u001b[0mARIMA\u001b[0m\u001b[0;34m\u001b[0m\u001b[0;34m\u001b[0m\u001b[0m\n\u001b[1;32m     18\u001b[0m \u001b[0;32mfrom\u001b[0m \u001b[0mdatetime\u001b[0m \u001b[0;32mimport\u001b[0m \u001b[0mdatetime\u001b[0m\u001b[0;34m,\u001b[0m \u001b[0mtimedelta\u001b[0m\u001b[0;34m\u001b[0m\u001b[0;34m\u001b[0m\u001b[0m\n",
            "\u001b[0;31mImportError\u001b[0m: cannot import name 'AutoReg' from 'statsmodels.tsa.ar_model' (/usr/local/lib/python3.7/dist-packages/statsmodels/tsa/ar_model.py)",
            "",
            "\u001b[0;31m---------------------------------------------------------------------------\u001b[0;32m\nNOTE: If your import is failing due to a missing package, you can\nmanually install dependencies using either !pip or !apt.\n\nTo view examples of installing some common dependencies, click the\n\"Open Examples\" button below.\n\u001b[0;31m---------------------------------------------------------------------------\u001b[0m\n"
          ],
          "errorDetails": {
            "actions": [
              {
                "action": "open_url",
                "actionText": "Open Examples",
                "url": "/notebooks/snippets/importing_libraries.ipynb"
              }
            ]
          }
        }
      ]
    },
    {
      "cell_type": "code",
      "metadata": {
        "colab": {
          "base_uri": "https://localhost:8080/"
        },
        "id": "cYDW_GvhwtxX",
        "outputId": "edb5a727-cb3c-4ab4-f97f-a4ae3f4277e3"
      },
      "source": [
        "pip install statsmodels --upgrade"
      ],
      "id": "cYDW_GvhwtxX",
      "execution_count": null,
      "outputs": [
        {
          "output_type": "stream",
          "name": "stdout",
          "text": [
            "Requirement already satisfied: statsmodels in /usr/local/lib/python3.7/dist-packages (0.13.1)\n",
            "Requirement already satisfied: numpy>=1.17 in /usr/local/lib/python3.7/dist-packages (from statsmodels) (1.19.5)\n",
            "Requirement already satisfied: pandas>=0.25 in /usr/local/lib/python3.7/dist-packages (from statsmodels) (1.1.5)\n",
            "Requirement already satisfied: scipy>=1.3 in /usr/local/lib/python3.7/dist-packages (from statsmodels) (1.4.1)\n",
            "Requirement already satisfied: patsy>=0.5.2 in /usr/local/lib/python3.7/dist-packages (from statsmodels) (0.5.2)\n",
            "Requirement already satisfied: pytz>=2017.2 in /usr/local/lib/python3.7/dist-packages (from pandas>=0.25->statsmodels) (2018.9)\n",
            "Requirement already satisfied: python-dateutil>=2.7.3 in /usr/local/lib/python3.7/dist-packages (from pandas>=0.25->statsmodels) (2.8.2)\n",
            "Requirement already satisfied: six in /usr/local/lib/python3.7/dist-packages (from patsy>=0.5.2->statsmodels) (1.15.0)\n"
          ]
        }
      ]
    },
    {
      "cell_type": "markdown",
      "metadata": {
        "id": "3beee2cc"
      },
      "source": [
        "## Importación Dataset"
      ],
      "id": "3beee2cc"
    },
    {
      "cell_type": "code",
      "metadata": {
        "id": "ade28530"
      },
      "source": [
        "data_folder = \"\""
      ],
      "id": "ade28530",
      "execution_count": null,
      "outputs": []
    },
    {
      "cell_type": "code",
      "metadata": {
        "id": "7a47c594"
      },
      "source": [
        "crypto_df = pd.read_csv(data_folder + 'train.csv')"
      ],
      "id": "7a47c594",
      "execution_count": null,
      "outputs": []
    },
    {
      "cell_type": "code",
      "metadata": {
        "id": "e5ccf8e2"
      },
      "source": [
        "crypto_df.head(10)"
      ],
      "id": "e5ccf8e2",
      "execution_count": null,
      "outputs": []
    },
    {
      "cell_type": "code",
      "metadata": {
        "id": "5fcbf01c"
      },
      "source": [
        "crypto_df.isna().sum()"
      ],
      "id": "5fcbf01c",
      "execution_count": null,
      "outputs": []
    },
    {
      "cell_type": "code",
      "metadata": {
        "id": "6846d1b1"
      },
      "source": [
        "crypto_df.shape"
      ],
      "id": "6846d1b1",
      "execution_count": null,
      "outputs": []
    },
    {
      "cell_type": "markdown",
      "metadata": {
        "id": "a23b9d47"
      },
      "source": [
        "# Análisis Exploratorio"
      ],
      "id": "a23b9d47"
    },
    {
      "cell_type": "markdown",
      "metadata": {
        "id": "07e3a08f"
      },
      "source": [
        "#### Funciones necesarias"
      ],
      "id": "07e3a08f"
    },
    {
      "cell_type": "code",
      "metadata": {
        "id": "4c998d4e"
      },
      "source": [
        "# auxiliary function, from datetime to timestamp\n",
        "totimestamp = lambda s: np.int32(time.mktime(datetime.strptime(s, \"%d/%m/%Y\").timetuple()))"
      ],
      "id": "4c998d4e",
      "execution_count": null,
      "outputs": []
    },
    {
      "cell_type": "code",
      "metadata": {
        "id": "56858d5c"
      },
      "source": [
        "# definimos la funcion del rendimiento logaritmico\n",
        "def log_return(series, periods=1):\n",
        "    return np.log(series).diff(periods=periods)"
      ],
      "id": "56858d5c",
      "execution_count": null,
      "outputs": []
    },
    {
      "cell_type": "markdown",
      "metadata": {
        "id": "99b0e495"
      },
      "source": [
        "## Reducción de la base de datos\n",
        "Tomando la base de datos vamos a disminuir la dimensión tomando solamente una criptomoneda y un limite de tiempo determinado.Para tomar una sola criptodivisa miraremos el archivo `asset_details.csv`para ver el indice de la criptomoneda."
      ],
      "id": "99b0e495"
    },
    {
      "cell_type": "code",
      "metadata": {
        "id": "ae581272"
      },
      "source": [
        "asset_details = pd.read_csv(data_folder + 'asset_details.csv')"
      ],
      "id": "ae581272",
      "execution_count": null,
      "outputs": []
    },
    {
      "cell_type": "code",
      "metadata": {
        "id": "1c293db9"
      },
      "source": [
        "asset_details.head(15)"
      ],
      "id": "1c293db9",
      "execution_count": null,
      "outputs": []
    },
    {
      "cell_type": "markdown",
      "metadata": {
        "id": "76a15c13"
      },
      "source": [
        "## Correlación entre todos los activos"
      ],
      "id": "76a15c13"
    },
    {
      "cell_type": "code",
      "metadata": {
        "id": "d733b0be"
      },
      "source": [
        "# create dataframe with returns for all assets\n",
        "all_assets_2021 = pd.DataFrame([])\n",
        "for asset_id, asset_name in zip(asset_details.Asset_ID, asset_details.Asset_Name):\n",
        "  asset = crypto_df[crypto_df[\"Asset_ID\"]==asset_id].set_index(\"timestamp\")\n",
        "  asset = asset.loc[totimestamp('01/06/2021'):totimestamp('20/09/2021')]\n",
        "  asset = asset.reindex(range(asset.index[0],asset.index[-1]+60,60),method='pad')\n",
        "  lret = log_return(asset.Close.fillna(0))[1:]\n",
        "  all_assets_2021 = all_assets_2021.join(lret, rsuffix=asset_name, how=\"outer\")"
      ],
      "id": "d733b0be",
      "execution_count": null,
      "outputs": []
    },
    {
      "cell_type": "code",
      "metadata": {
        "id": "fe0fb318"
      },
      "source": [
        "plt.imshow(all_assets_2021.corr());\n",
        "plt.yticks(asset_details.Asset_ID.values, asset_details.Asset_Name.values);\n",
        "plt.xticks(asset_details.Asset_ID.values, asset_details.Asset_Name.values, rotation='vertical');\n",
        "plt.colorbar();"
      ],
      "id": "fe0fb318",
      "execution_count": null,
      "outputs": []
    },
    {
      "cell_type": "markdown",
      "metadata": {
        "id": "624c2a38"
      },
      "source": [
        "Tomaremos IOTA ya que es el de menor peso en el mercado, según estos datos se identifica con el `Asset_ID`  = 8 y su peso es de 1.10."
      ],
      "id": "624c2a38"
    },
    {
      "cell_type": "code",
      "metadata": {
        "id": "76d9f3b2"
      },
      "source": [
        "Iota = crypto_df[crypto_df['Asset_ID']== 8].set_index('timestamp')\n"
      ],
      "id": "76d9f3b2",
      "execution_count": null,
      "outputs": []
    },
    {
      "cell_type": "code",
      "metadata": {
        "id": "29ea0b42"
      },
      "source": [
        "Iota.head(10)"
      ],
      "id": "29ea0b42",
      "execution_count": null,
      "outputs": []
    },
    {
      "cell_type": "markdown",
      "metadata": {
        "id": "7f51bdeb"
      },
      "source": [
        "Tomaremos el Maker ya que es el de menor peso en el mercado, se identifica con el ``Asset_ID`` = 10 y su peso es de 1.10."
      ],
      "id": "7f51bdeb"
    },
    {
      "cell_type": "code",
      "metadata": {
        "id": "12a16600"
      },
      "source": [
        "Mak = crypto_df[crypto_df['Asset_ID']== 10].set_index('timestamp')"
      ],
      "id": "12a16600",
      "execution_count": null,
      "outputs": []
    },
    {
      "cell_type": "code",
      "metadata": {
        "scrolled": true,
        "id": "a8d44ae7"
      },
      "source": [
        "Mak.tail(10)"
      ],
      "id": "a8d44ae7",
      "execution_count": null,
      "outputs": []
    },
    {
      "cell_type": "markdown",
      "metadata": {
        "id": "641e94c3"
      },
      "source": [
        "### Ajustando el Dataset"
      ],
      "id": "641e94c3"
    },
    {
      "cell_type": "code",
      "metadata": {
        "id": "97351175"
      },
      "source": [
        "# auxiliary function, from datetime to timestamp\n",
        "totimestamp = lambda s: np.int32(time.mktime(datetime.strptime(s, \"%d/%m/%Y\").timetuple()))\n",
        "# Periodo de 2021 junio a septiembre\n",
        "Iota_mini_2021 = Iota.loc[totimestamp('01/06/2021'):totimestamp('20/09/2021')] \n",
        "# Periodo de 2021 septiembre días\n",
        "Iota_mini_2021_reducido = Iota.loc[totimestamp('18/09/2021'):totimestamp('19/09/2021')]"
      ],
      "id": "97351175",
      "execution_count": null,
      "outputs": []
    },
    {
      "cell_type": "code",
      "metadata": {
        "id": "7215bb0b"
      },
      "source": [
        "# create intervals\n",
        "# Periodo de 2021 junio a septiembre\n",
        "Mak_mini_2021 = Mak.loc[totimestamp('01/06/2021'):totimestamp('20/09/2021')] \n",
        "# Periodo de 2021 septiembre\n",
        "Mak_mini_2021_reducido = Mak.loc[totimestamp('18/09/2021'):totimestamp('19/09/2021')]"
      ],
      "id": "7215bb0b",
      "execution_count": null,
      "outputs": []
    },
    {
      "cell_type": "markdown",
      "metadata": {
        "id": "ab04308b"
      },
      "source": [
        "## Gráfica de vela\n",
        "Mediante una grafica de vela podremos visualizar los cambios del precio para las criptomodas contra el tiempo, es decir, realizar un analisis de los valores intradía, los cuales son los valores con los que se opera antes del cierre, entonces incluira La apertura, el maximo y minimo precio y el cierre de ese día. El color de las diferentes barras como el rojo, que determina cuando el cierre es inferior a la apertura, en caso contrareo encontraremos el color verde. \n",
        "\n",
        "Para nuestro grafico tomaremos las filas más recientes, para ver los ultimos comportamientos del precio contra el tiempo."
      ],
      "id": "ab04308b"
    },
    {
      "cell_type": "markdown",
      "metadata": {
        "id": "98c120d2"
      },
      "source": [
        "**Grafica de vela - Iota**\n",
        "\n",
        "*Periodo del 2021 (Junio - septiembre)*"
      ],
      "id": "98c120d2"
    },
    {
      "cell_type": "code",
      "metadata": {
        "id": "3f165a53"
      },
      "source": [
        "Iota_times = []\n",
        "for i in range(Iota_mini_2021.shape[0]):\n",
        "    a=Iota_mini_2021.index[i].astype('datetime64[s]')\n",
        "    Iota_times.append(a)"
      ],
      "id": "3f165a53",
      "execution_count": null,
      "outputs": []
    },
    {
      "cell_type": "code",
      "metadata": {
        "id": "c657d570"
      },
      "source": [
        "#fig = go.Figure(data=[go.Candlestick(x=Bit_times, open=Bit_mini_2021['Open'], high=Bit_mini_2021['High'], low=Bit_mini_2021['Low'], close=Bit_mini_2021['Close'])])\n",
        "#fig.show()"
      ],
      "id": "c657d570",
      "execution_count": null,
      "outputs": []
    },
    {
      "cell_type": "markdown",
      "metadata": {
        "id": "5493c782"
      },
      "source": [
        "**Grafica de vela - Maker**\n",
        "\n",
        "*Periodo del 2021 (Junio - septiembre)*"
      ],
      "id": "5493c782"
    },
    {
      "cell_type": "code",
      "metadata": {
        "id": "14db5559"
      },
      "source": [
        "Mak_times = []\n",
        "for i in range(Mak_mini_2021.shape[0]):\n",
        "    a=Mak_mini_2021.index[i].astype('datetime64[s]')\n",
        "    Mak_times.append(a)"
      ],
      "id": "14db5559",
      "execution_count": null,
      "outputs": []
    },
    {
      "cell_type": "code",
      "metadata": {
        "id": "8236e563"
      },
      "source": [
        "#fig = go.Figure(data=[go.Candlestick(x=Mak_times, open=Mak_mini_2021['Open'], high=Mak_mini_2021['High'], low=Mak_mini_2021['Low'], close=Mak_mini_2021['Close'])])\n",
        "#fig.show()"
      ],
      "id": "8236e563",
      "execution_count": null,
      "outputs": []
    },
    {
      "cell_type": "markdown",
      "metadata": {
        "id": "1cdbd948"
      },
      "source": [
        "Podemos notar que en los ultimos meses se nota una gran diferencia entre el valor del Bitcoin y del Maker, siendo el primero hasta 10 veces mayor que el segundo. Tambien podemos observar que a pesar de la gran diferencia los dos tuvieron cambios muy similares con el paso del tiempo."
      ],
      "id": "1cdbd948"
    },
    {
      "cell_type": "markdown",
      "metadata": {
        "id": "6957a1a1"
      },
      "source": [
        "## Datos perdidos en el tiempo"
      ],
      "id": "6957a1a1"
    },
    {
      "cell_type": "code",
      "metadata": {
        "id": "f51288b3"
      },
      "source": [
        "# Original Iota\n",
        "Iota = Iota.reindex(range(Iota.index[0],Iota.index[-1]+60,60),method='pad')\n",
        "#Original Maker\n",
        "Mak = Mak.reindex(range(Mak.index[0],Mak.index[-1]+60,60),method='pad')\n",
        "# Periodo del 2021 (Junio - septiembre) Iota\n",
        "Iota_mini_2021 = Iota_mini_2021.reindex(range(Iota_mini_2021.index[0],Iota_mini_2021.index[-1]+60,60),method='pad')\n",
        "# Periodo del 2021 (Junio - septiembre) Maker\n",
        "Mak_mini_2021 = Mak_mini_2021.reindex(range(Mak_mini_2021.index[0],Mak_mini_2021.index[-1]+60,60),method='pad')\n",
        "# Periodo del 2021 (Agosto a septiembre) Iota\n",
        "Iota_mini_2021_reducido = Iota_mini_2021_reducido.reindex(range(Iota_mini_2021_reducido.index[0],Iota_mini_2021_reducido.index[-1]+60,60),method='pad')\n",
        "# Periodo del 2021 (Agosto a septiembre) Maker\n",
        "Mak_mini_2021_reducido = Mak_mini_2021_reducido.reindex(range(Mak_mini_2021_reducido.index[0],Mak_mini_2021_reducido.index[-1]+60,60),method='pad')\n"
      ],
      "id": "f51288b3",
      "execution_count": null,
      "outputs": []
    },
    {
      "cell_type": "code",
      "metadata": {
        "id": "8659fb5a"
      },
      "source": [
        "Iota_times = []\n",
        "for i in range(Iota_mini_2021.shape[0]):\n",
        "    b = np.int64(Iota_mini_2021.index[i])\n",
        "    a= b.astype('datetime64[s]')\n",
        "    Iota_times.append(a)"
      ],
      "id": "8659fb5a",
      "execution_count": null,
      "outputs": []
    },
    {
      "cell_type": "code",
      "metadata": {
        "id": "58679d51"
      },
      "source": [
        "Iota_times2 = []\n",
        "for i in range(Iota_mini_2021_reducido.shape[0]):\n",
        "    b = np.int64(Iota_mini_2021_reducido.index[i])\n",
        "    a= b.astype('datetime64[s]')\n",
        "    Iota_times2.append(a)"
      ],
      "id": "58679d51",
      "execution_count": null,
      "outputs": []
    },
    {
      "cell_type": "code",
      "metadata": {
        "id": "71a21e66"
      },
      "source": [
        "Mak_times = []\n",
        "for i in range(Mak_mini_2021.shape[0]):\n",
        "    b = np.int64(Mak_mini_2021.index[i])\n",
        "    a= b.astype('datetime64[s]')\n",
        "    Mak_times.append(a)"
      ],
      "id": "71a21e66",
      "execution_count": null,
      "outputs": []
    },
    {
      "cell_type": "code",
      "metadata": {
        "id": "6084f804"
      },
      "source": [
        "Mak_times2 = []\n",
        "for i in range(Mak_mini_2021_reducido.shape[0]):\n",
        "    b = np.int64(Mak_mini_2021_reducido.index[i])\n",
        "    a= b.astype('datetime64[s]')\n",
        "    Mak_times2.append(a)"
      ],
      "id": "6084f804",
      "execution_count": null,
      "outputs": []
    },
    {
      "cell_type": "markdown",
      "metadata": {
        "id": "043fc149"
      },
      "source": [
        "## Visualizacion de los datos "
      ],
      "id": "043fc149"
    },
    {
      "cell_type": "markdown",
      "metadata": {
        "id": "b7b91e0a"
      },
      "source": [
        "**Close prices**"
      ],
      "id": "b7b91e0a"
    },
    {
      "cell_type": "markdown",
      "metadata": {
        "id": "dcf1b934"
      },
      "source": [
        "Comenzamos visualizando el precio cerrado realizando una comparación entre ambas criptomonedas. "
      ],
      "id": "dcf1b934"
    },
    {
      "cell_type": "code",
      "metadata": {
        "id": "2e1729cf"
      },
      "source": [
        "f = plt.figure(figsize=(15,4))\n",
        "\n",
        "ax = f.add_subplot(121)\n",
        "plt.plot(Iota['Close'], label='close')\n",
        "plt.legend()\n",
        "plt.xlabel('Time')\n",
        "plt.ylabel('Price close')\n",
        "plt.title(\"IOTA\")\n",
        "\n",
        "ax2 = f.add_subplot(122)\n",
        "ax2.plot(Mak['Close'], color='red', label='close')\n",
        "plt.legend()\n",
        "plt.xlabel('Time')\n",
        "plt.ylabel('Price close')\n",
        "plt.title(\"Maker\")\n",
        "\n",
        "plt.tight_layout()\n",
        "plt.show()"
      ],
      "id": "2e1729cf",
      "execution_count": null,
      "outputs": []
    },
    {
      "cell_type": "markdown",
      "metadata": {
        "id": "e95acd59"
      },
      "source": [
        "Podemos observar que en el precio cerrado ambas presentan Un comportamiento similiar ente el periodo de tiempo \\[1.54 - 1.61\\], Notamos tambien que Maker tiene una escala de precio cerra mayor a Iota, A pesar de que ambos tienen el mismo peso en el mercado."
      ],
      "id": "e95acd59"
    },
    {
      "cell_type": "markdown",
      "metadata": {
        "id": "0056c1cb"
      },
      "source": [
        "### Grafica de cierre en el 2021\n",
        "Realizaremos la misma graficas anteriores pero ahora en los periodos de tiempo desde junio hasta septiembre del año 2021."
      ],
      "id": "0056c1cb"
    },
    {
      "cell_type": "code",
      "metadata": {
        "scrolled": false,
        "id": "ab0ea14a"
      },
      "source": [
        "f = plt.figure(figsize=(15,4))\n",
        "\n",
        "ax = f.add_subplot(121)\n",
        "plt.plot(Iota_times, Iota_mini_2021['Close'], label='close')\n",
        "plt.legend()\n",
        "plt.xlabel('Time')\n",
        "plt.ylabel('price Close')\n",
        "plt.title(\"IOTA\")\n",
        "\n",
        "ax2 = f.add_subplot(122)\n",
        "ax2.plot(Mak_times, Mak_mini_2021['Close'], color='red', label='close')\n",
        "plt.legend()\n",
        "plt.xlabel('Time')\n",
        "plt.ylabel('price Close')\n",
        "plt.title(\"Maker\")\n",
        "\n",
        "plt.tight_layout()\n",
        "plt.show()"
      ],
      "id": "ab0ea14a",
      "execution_count": null,
      "outputs": []
    },
    {
      "cell_type": "markdown",
      "metadata": {
        "id": "eb7fa442"
      },
      "source": [
        "**Open prices**"
      ],
      "id": "eb7fa442"
    },
    {
      "cell_type": "markdown",
      "metadata": {
        "id": "fd1148b0"
      },
      "source": [
        "Visualizamos los precios abiertos de ambas criptomonedas con respecto al tiempo."
      ],
      "id": "fd1148b0"
    },
    {
      "cell_type": "code",
      "metadata": {
        "id": "f4c7ffc2"
      },
      "source": [
        "f = plt.figure(figsize=(15,4))\n",
        "\n",
        "ax = f.add_subplot(121)\n",
        "plt.plot(Iota['Open'], label='Open')\n",
        "plt.legend()\n",
        "plt.xlabel('Time')\n",
        "plt.ylabel('Price open')\n",
        "plt.title(\"IOTA\")\n",
        "\n",
        "ax2 = f.add_subplot(122)\n",
        "ax2.plot(Mak['Open'], color='red', label='Open')\n",
        "plt.legend()\n",
        "plt.xlabel('Time')\n",
        "plt.ylabel('Price open')\n",
        "plt.title(\"Maker\")\n",
        "\n",
        "plt.tight_layout()\n",
        "plt.show()"
      ],
      "id": "f4c7ffc2",
      "execution_count": null,
      "outputs": []
    },
    {
      "cell_type": "markdown",
      "metadata": {
        "id": "68732492"
      },
      "source": [
        "Notemos que las graficas de apertura de las diferentes criptomonedas tienen el mismo comportamiento que las graficas de cierre."
      ],
      "id": "68732492"
    },
    {
      "cell_type": "markdown",
      "metadata": {
        "id": "738bcaee"
      },
      "source": [
        "### Grafica de apertura en el 2021\n",
        "Realizaremos la misma graficas anteriores pero ahora en los periodos de tiempo desde junio hasta septiembre del año 2021."
      ],
      "id": "738bcaee"
    },
    {
      "cell_type": "code",
      "metadata": {
        "scrolled": true,
        "id": "777b9f8a"
      },
      "source": [
        "f = plt.figure(figsize=(15,4))\n",
        "\n",
        "ax = f.add_subplot(121)\n",
        "plt.plot(Iota_times, Iota_mini_2021['Open'], label='Open')\n",
        "plt.legend()\n",
        "plt.xlabel('Time')\n",
        "plt.ylabel('Price open ')\n",
        "plt.title(\"IOTA\")\n",
        "\n",
        "ax2 = f.add_subplot(122)\n",
        "ax2.plot(Mak_times, Mak_mini_2021['Open'], color='red', label='Open')\n",
        "plt.legend()\n",
        "plt.xlabel('Time')\n",
        "plt.ylabel('price open')\n",
        "plt.title(\"Maker\")\n",
        "\n",
        "plt.tight_layout()\n",
        "plt.show()"
      ],
      "id": "777b9f8a",
      "execution_count": null,
      "outputs": []
    },
    {
      "cell_type": "markdown",
      "metadata": {
        "id": "85345725"
      },
      "source": [
        "**High Prices**"
      ],
      "id": "85345725"
    },
    {
      "cell_type": "markdown",
      "metadata": {
        "id": "911c1c88"
      },
      "source": [
        "Ahora visualizaremos los precios mas altos que han tenido ambas criptomonedas con respecto al tiempo."
      ],
      "id": "911c1c88"
    },
    {
      "cell_type": "code",
      "metadata": {
        "scrolled": true,
        "id": "a5cfb004"
      },
      "source": [
        "f = plt.figure(figsize=(15,4))\n",
        "\n",
        "ax = f.add_subplot(121)\n",
        "plt.plot(Iota['High'], label='High')\n",
        "plt.legend()\n",
        "plt.xlabel('Time')\n",
        "plt.ylabel('Price High')\n",
        "plt.title(\"IOTA\")\n",
        "\n",
        "ax2 = f.add_subplot(122)\n",
        "ax2.plot(Mak['High'], color='red', label='High')\n",
        "plt.legend()\n",
        "plt.xlabel('Time')\n",
        "plt.ylabel('Price High')\n",
        "plt.title(\"Maker\")\n",
        "\n",
        "plt.tight_layout()\n",
        "plt.show()"
      ],
      "id": "a5cfb004",
      "execution_count": null,
      "outputs": []
    },
    {
      "cell_type": "markdown",
      "metadata": {
        "id": "eca2d520"
      },
      "source": [
        "Observamos un crecimiento en el precio de ambas criptomonedas dentro del ultimo periodo del tiempo.Además, los valores más altos se centran en los precios 3.0 para la criptomoneda IOTA y 10000 para la criptomoneda Maker. "
      ],
      "id": "eca2d520"
    },
    {
      "cell_type": "markdown",
      "metadata": {
        "id": "62002af8"
      },
      "source": [
        "### Grafica de precios altos en el 2021\n",
        "Realizaremos la misma graficas anteriores pero ahora en los periodos de tiempo desde junio hasta septiembre del año 2021."
      ],
      "id": "62002af8"
    },
    {
      "cell_type": "code",
      "metadata": {
        "id": "b33d90ad"
      },
      "source": [
        "f = plt.figure(figsize=(15,4))\n",
        "\n",
        "ax = f.add_subplot(121)\n",
        "plt.plot(Iota_times, Iota_mini_2021['High'], label='High')\n",
        "plt.legend()\n",
        "plt.xlabel('Time')\n",
        "plt.ylabel('Price High')\n",
        "plt.title(\"IOTA\")\n",
        "\n",
        "ax2 = f.add_subplot(122)\n",
        "ax2.plot(Mak_times, Mak_mini_2021['High'], color='red', label='High')\n",
        "plt.legend()\n",
        "plt.xlabel('Time')\n",
        "plt.ylabel('Price High')\n",
        "plt.title(\"Maker\")\n",
        "\n",
        "plt.tight_layout()\n",
        "plt.show()"
      ],
      "id": "b33d90ad",
      "execution_count": null,
      "outputs": []
    },
    {
      "cell_type": "markdown",
      "metadata": {
        "id": "6b1bf211"
      },
      "source": [
        "Observamos que en el rango de junio a agosto hubo una variación de precios entre ambas monedas pero sus valores más altos son reguistrados en mes de septiembre del año 2021. "
      ],
      "id": "6b1bf211"
    },
    {
      "cell_type": "markdown",
      "metadata": {
        "id": "e2751c17"
      },
      "source": [
        "## Grafica Precios medios ponderados\n",
        "Realizaremos la grafica de ambas criptomonedas con respecto a sus precios medios ponderados entre los meses de junio a septiembre del 2021"
      ],
      "id": "e2751c17"
    },
    {
      "cell_type": "code",
      "metadata": {
        "id": "f95ca8dc"
      },
      "source": [
        "f = plt.figure(figsize=(15,4))\n",
        "\n",
        "ax = f.add_subplot(121)\n",
        "plt.plot(Iota_times, Iota_mini_2021['VWAP'], label='VWAP')\n",
        "plt.legend()\n",
        "plt.xlabel('Time')\n",
        "plt.ylabel('VWAP')\n",
        "plt.title(\"IOTA\")\n",
        "\n",
        "ax2 = f.add_subplot(122)\n",
        "ax2.plot(Mak_times, Mak_mini_2021['VWAP'], color='red', label='VWAP')\n",
        "plt.legend()\n",
        "plt.xlabel('Time')\n",
        "plt.ylabel('VWAP')\n",
        "plt.title(\"Maker\")\n",
        "\n",
        "plt.tight_layout()\n",
        "plt.show()"
      ],
      "id": "f95ca8dc",
      "execution_count": null,
      "outputs": []
    },
    {
      "cell_type": "markdown",
      "metadata": {
        "id": "b4437cf7"
      },
      "source": [
        "Notemos que todas las graficas anteriores tienen un comportamiento estacionario  con respecto al tiempo, debido a que no se genera como tal una tendecia se crecimiento o decrecimiento. Como tambien podemos darnos cuenta estas graficas son muy similares."
      ],
      "id": "b4437cf7"
    },
    {
      "cell_type": "markdown",
      "metadata": {
        "id": "a6821f72"
      },
      "source": [
        "## ¿ Estacionaria ó no?\n",
        "A partir de las graficas anteriores notamos que tienen un comportamiento similar, ahora visualizaremos si son estacionarias o no, en caso de que no sean estacionaria recortaremos un poco el tiempo para lograr una señar estacionaria. Visualizaremos las variables `Open` y `VWAP` para el periodo de junio a septiembre del 2021, para nuestras criptomonedas trabajades anteriormente."
      ],
      "id": "a6821f72"
    },
    {
      "cell_type": "code",
      "metadata": {
        "id": "a061c431"
      },
      "source": [
        "# Prueba Augmented Dickey-Fuller\n",
        "def Check_Estacionaria (Serie):\n",
        "    result = adfuller(Serie)\n",
        "    print('ADF Statistic: %f' % result[0])\n",
        "    print('p-value: %f' % result[1])\n",
        "    print('Critical Values:')\n",
        "    for key, value in result[4].items():\n",
        "            print('\\t%s: %.3f' % (key, value))\n",
        "\n",
        "    if (result[1] <= 0.05) & (result[4]['5%'] > result[0]):\n",
        "        print(\"\\u001b[32mStationary\\u001b[0m\")\n",
        "    else:\n",
        "        print(\"\\x1b[31mNon-stationary\\x1b[0m\")"
      ],
      "id": "a061c431",
      "execution_count": null,
      "outputs": []
    },
    {
      "cell_type": "markdown",
      "metadata": {
        "id": "5281b36b"
      },
      "source": [
        "###  IOTA"
      ],
      "id": "5281b36b"
    },
    {
      "cell_type": "code",
      "metadata": {
        "id": "f7c2e604"
      },
      "source": [
        "Open_Iota1 = pd.Series(Iota_mini_2021['Open'], index=Iota_mini_2021.index)\n",
        "# Prueba Augmented Dickey-Fuller\n",
        "Check_Estacionaria(Open_Iota1)"
      ],
      "id": "f7c2e604",
      "execution_count": null,
      "outputs": []
    },
    {
      "cell_type": "markdown",
      "metadata": {
        "id": "3d117e81"
      },
      "source": [
        "Notemos que la serie conformada con los precios de apertura de la criptomoneda IOTA, no tiene un comportamiento estacionario como se habia pensado incialmente, debido que al realizar esta prueba de hipotesis contamos con un valor p demasiado grande para ese valor estadistico. "
      ],
      "id": "3d117e81"
    },
    {
      "cell_type": "code",
      "metadata": {
        "id": "4ffd0a9b"
      },
      "source": [
        "Vwap_Iota1 = pd.Series(Iota_mini_2021['VWAP'], index=Iota_mini_2021.index)\n",
        "# Prueba Augmented Dickey-Fuller\n",
        "Check_Estacionaria(Vwap_Iota1)"
      ],
      "id": "4ffd0a9b",
      "execution_count": null,
      "outputs": []
    },
    {
      "cell_type": "markdown",
      "metadata": {
        "id": "8abdbd3a"
      },
      "source": [
        "Igual que el anterior tenemos que la serie conformada con la variable `VWAP` tiene un comportamiento no estacionario, debido a que tiene un valor p demasiado grande y un valor estadistico más grande que los valores criticos. Como ambos test nos demuestran que aún tenemos una serie no estacionaria, tomaremos una nueva con los tiempos más reducidos."
      ],
      "id": "8abdbd3a"
    },
    {
      "cell_type": "code",
      "metadata": {
        "id": "6668a67d"
      },
      "source": [
        "Open_Iota2 = pd.Series(Iota_mini_2021_reducido['Open'], index=Iota_mini_2021_reducido.index)\n",
        "# Prueba Augmented Dickey-Fuller\n",
        "Check_Estacionaria(Open_Iota2)"
      ],
      "id": "6668a67d",
      "execution_count": null,
      "outputs": []
    },
    {
      "cell_type": "code",
      "metadata": {
        "id": "e96cb9ea"
      },
      "source": [
        "plt.plot(Iota_times2, Iota_mini_2021_reducido['Open'], label='Open')\n",
        "plt.legend()\n",
        "plt.xlabel('Time')\n",
        "plt.ylabel('Precio de apertura')\n",
        "plt.title(\"2021(septiembre)\")"
      ],
      "id": "e96cb9ea",
      "execution_count": null,
      "outputs": []
    },
    {
      "cell_type": "markdown",
      "metadata": {
        "id": "1c895a93"
      },
      "source": [
        "Notemos que al reducir mucho más la base de datos podemos obtener una seria que es estacionaria con un valor p de 0.009 y un valor estadistico de -3.4395"
      ],
      "id": "1c895a93"
    },
    {
      "cell_type": "code",
      "metadata": {
        "id": "7f0b57df"
      },
      "source": [
        "Vwap_Iota2 = pd.Series(Iota_mini_2021_reducido['VWAP'], index=Iota_mini_2021_reducido.index)\n",
        "# Prueba Augmented Dickey-Fuller\n",
        "Check_Estacionaria(Vwap_Iota2)"
      ],
      "id": "7f0b57df",
      "execution_count": null,
      "outputs": []
    },
    {
      "cell_type": "code",
      "metadata": {
        "id": "c3a242ba"
      },
      "source": [
        "plt.plot(Iota_times2, Iota_mini_2021_reducido['VWAP'], label='VWAP')\n",
        "plt.legend()\n",
        "plt.xlabel('Time')\n",
        "plt.ylabel('VWAP')\n",
        "plt.title(\"2021(septiembre)\")"
      ],
      "id": "c3a242ba",
      "execution_count": null,
      "outputs": []
    },
    {
      "cell_type": "markdown",
      "metadata": {
        "id": "abaa4497"
      },
      "source": [
        "Notemos que como ambas graficas tienen un comportamiento similar, se puede afirmar que las series conformadas por `VWAP`,`Open` y `Close` serán series estacionarias para ese periodo de tiempo."
      ],
      "id": "abaa4497"
    },
    {
      "cell_type": "markdown",
      "metadata": {
        "id": "7ad07947"
      },
      "source": [
        "### Maker"
      ],
      "id": "7ad07947"
    },
    {
      "cell_type": "code",
      "metadata": {
        "id": "de1f4453"
      },
      "source": [
        "Open_Mak1 = pd.Series(Mak_mini_2021['Open'], index=Mak_mini_2021.index)\n",
        "# Prueba Augmented Dickey-Fuller\n",
        "Check_Estacionaria(Open_Mak1)"
      ],
      "id": "de1f4453",
      "execution_count": null,
      "outputs": []
    },
    {
      "cell_type": "code",
      "metadata": {
        "id": "d3817518"
      },
      "source": [
        "Vwap_Mak1 = pd.Series(Mak_mini_2021['VWAP'], index=Mak_mini_2021.index)\n",
        "# Prueba Augmented Dickey-Fuller\n",
        "Check_Estacionaria(Vwap_Mak1)"
      ],
      "id": "d3817518",
      "execution_count": null,
      "outputs": []
    },
    {
      "cell_type": "code",
      "metadata": {
        "id": "0442fc3b"
      },
      "source": [
        "Open_Mak2 = pd.Series(Mak_mini_2021_reducido['Open'], index=Mak_mini_2021_reducido.index)\n",
        "# Prueba Augmented Dickey-Fuller\n",
        "Check_Estacionaria(Open_Mak2)"
      ],
      "id": "0442fc3b",
      "execution_count": null,
      "outputs": []
    },
    {
      "cell_type": "code",
      "metadata": {
        "id": "e25c32d2"
      },
      "source": [
        "plt.plot(Mak_times2, Mak_mini_2021_reducido['Open'], label='Open')\n",
        "plt.legend()\n",
        "plt.xlabel('Time')\n",
        "plt.ylabel('Open')\n",
        "plt.title(\"2021(septiembre)\")"
      ],
      "id": "e25c32d2",
      "execution_count": null,
      "outputs": []
    },
    {
      "cell_type": "markdown",
      "metadata": {
        "id": "17b93e1a"
      },
      "source": [
        "A pesar de que se recorto el tiempo, la serie sigue teniendo un comportamiento no estacionario, lo que nos indica que no importa cuanto se manipule el tiempo puede llegar a seguir siendo no estacionaria."
      ],
      "id": "17b93e1a"
    },
    {
      "cell_type": "markdown",
      "metadata": {
        "id": "c6aed6f6"
      },
      "source": [
        "## Rendimiento logaritmico de cada activo"
      ],
      "id": "c6aed6f6"
    },
    {
      "cell_type": "markdown",
      "metadata": {
        "id": "a8c42e51"
      },
      "source": [
        "Para analizar la evolucion de los precios de un activo podemos tratar la diferencia de precios. Tenemos como consecuencia que como el precio de los activos es tan volatil y tiene escalas diferentes no es muy facil hacer una comparacion, para esto podemos utilizar rendimientos logaritmicos ya que son aditivos a lo largo del tiempo, por lo cual mientras los rendimientos regulares no pueden ser inferiores a -100%, los rendimientos logaritmicos no estan acotados.  \n",
        "Para entender el procedimiento, este toma el logaritmo de la relacion entre dos precios consecutivos.\n",
        "\n",
        "*Ahora, mostraremos el ruido del precio de dos criptomonedas, con respecto al periodo de junio hasta septiembre.*"
      ],
      "id": "a8c42e51"
    },
    {
      "cell_type": "markdown",
      "metadata": {
        "id": "22fe5025"
      },
      "source": [
        "### Log_Return - Close"
      ],
      "id": "22fe5025"
    },
    {
      "cell_type": "code",
      "metadata": {
        "id": "8aca79f1"
      },
      "source": [
        "lret_Iota = log_return(Iota_mini_2021_reducido.Close)[1:]\n",
        "lret_Mak = log_return(Mak_mini_2021_reducido.Close)[1:]\n",
        "lret_Iota.rename('lret_Iota', inplace=True)\n",
        "lret_Mak.rename('lret_Mak', inplace=True)\n",
        "\n",
        "plt.figure(figsize=(8,4))\n",
        "plt.plot( lret_Iota, label=\"lret_Iota\");\n",
        "plt.plot( lret_Mak,label='lret_Mak');\n",
        "plt.xlabel('Time')\n",
        "plt.ylabel('Log return')\n",
        "plt.legend()\n",
        "plt.show()"
      ],
      "id": "8aca79f1",
      "execution_count": null,
      "outputs": []
    },
    {
      "cell_type": "markdown",
      "metadata": {
        "id": "448a5ada"
      },
      "source": [
        "### Log_Return- Open"
      ],
      "id": "448a5ada"
    },
    {
      "cell_type": "code",
      "metadata": {
        "id": "2aecb08e"
      },
      "source": [
        "lret_Iota = log_return(Iota_mini_2021_reducido.Open)[1:]\n",
        "lret_Mak = log_return(Mak_mini_2021_reducido.Open)[1:]\n",
        "lret_Iota.rename('lret_Iota', inplace=True)\n",
        "lret_Mak.rename('lret_Mak', inplace=True)\n",
        "\n",
        "plt.figure(figsize=(8,4))\n",
        "plt.plot( lret_Iota, label=\"lret_Iota\");\n",
        "plt.plot( lret_Mak,label='lret_Mak');\n",
        "plt.xlabel('Time')\n",
        "plt.ylabel('Log return')\n",
        "plt.legend()\n",
        "plt.show()"
      ],
      "id": "2aecb08e",
      "execution_count": null,
      "outputs": []
    },
    {
      "cell_type": "markdown",
      "metadata": {
        "id": "47e4b5e0"
      },
      "source": [
        "### Log_Return- VWAP"
      ],
      "id": "47e4b5e0"
    },
    {
      "cell_type": "code",
      "metadata": {
        "id": "c25a6b90"
      },
      "source": [
        "lret_Iota = log_return(Iota_mini_2021_reducido.VWAP)[1:]\n",
        "lret_Mak = log_return(Mak_mini_2021_reducido.VWAP)[1:]\n",
        "lret_Iota.rename('lret_Iota', inplace=True)\n",
        "lret_Mak.rename('lret_Mak', inplace=True)\n",
        "\n",
        "plt.figure(figsize=(8,4))\n",
        "plt.plot( lret_Iota, label=\"lret_Iota\");\n",
        "plt.plot( lret_Mak,label='lret_Mak');\n",
        "plt.xlabel('Time')\n",
        "plt.ylabel('Log return')\n",
        "plt.legend()\n",
        "plt.show()"
      ],
      "id": "c25a6b90",
      "execution_count": null,
      "outputs": []
    },
    {
      "cell_type": "markdown",
      "metadata": {
        "id": "36442f97"
      },
      "source": [
        "## Correlacion entre activos"
      ],
      "id": "36442f97"
    },
    {
      "cell_type": "code",
      "metadata": {
        "id": "e36cb473"
      },
      "source": [
        "lret_Iota_long = log_return(Iota.Close)[1:]\n",
        "lret_Mak_long = log_return(Mak.Close)[1:]\n",
        "lret_Iota_long.rename('lret_Iota', inplace=True)\n",
        "lret_Mak_long.rename('lret_Mak', inplace=True)\n",
        "two_assets = pd.concat([lret_Iota_long, lret_Mak_long], axis=1)\n",
        "\n",
        "\n",
        "corr_time = two_assets.groupby(two_assets.index//(10000*60)).corr().loc[:,\"lret_Iota\"].loc[:,\"lret_Mak\"]\n",
        "\n",
        "corr_time.plot();\n",
        "plt.xticks([])\n",
        "plt.ylabel(\"Correlation\")\n",
        "plt.title(\"Correlation between Iota and Maker over time\");"
      ],
      "id": "e36cb473",
      "execution_count": null,
      "outputs": []
    },
    {
      "cell_type": "markdown",
      "metadata": {
        "id": "ec11281c"
      },
      "source": [
        "La correlación entre ambas criptomonedas surge en los ultimos periodos de tiempo, ya que inicialmente su correlación era cercana a cero."
      ],
      "id": "ec11281c"
    },
    {
      "cell_type": "markdown",
      "metadata": {
        "id": "2c6ed2c2"
      },
      "source": [
        "## Generación de los modelos y las predicciones.\n",
        "\n",
        "Se realizara los modelos para las criptomonedas IOTA y Maker para obtener predicciones futuras, teniendo en cuanta solamente los meses de junio a septiembre del 2021."
      ],
      "id": "2c6ed2c2"
    },
    {
      "cell_type": "markdown",
      "metadata": {
        "id": "7272a093"
      },
      "source": [
        "## Generar Feactures"
      ],
      "id": "7272a093"
    },
    {
      "cell_type": "code",
      "metadata": {
        "id": "4c732865"
      },
      "source": [
        "def upper_shadow (data):\n",
        "    upp = data['High'] - np.maximum(data['Close'],data['Open'])\n",
        "    return upp\n",
        "    \n",
        "def lower_shadow (data): \n",
        "    low = np.minimum(data['Close'],data['Open'])- data['Low']\n",
        "    return low\n",
        "\n"
      ],
      "id": "4c732865",
      "execution_count": null,
      "outputs": []
    },
    {
      "cell_type": "code",
      "metadata": {
        "id": "f0c63edc"
      },
      "source": [
        "# Utilizamos la función fillna(0) Con log_return\n",
        "X_Iota = pd.concat([log_return(Iota_mini_2021_reducido.VWAP,periods=5), log_return(Iota_mini_2021_reducido.VWAP,periods=1).abs(), \n",
        "               upper_shadow(Iota_mini_2021_reducido), lower_shadow(Iota_mini_2021_reducido),log_return(Iota_mini_2021_reducido.Open,periods=1),log_return(Iota_mini_2021_reducido.Close,periods=1)], axis=1).fillna(0)\n",
        "\n",
        "Y_Iota =Iota_mini_2021_reducido[['Target']].fillna(0)\n",
        "\n",
        "X_Mak = pd.concat([log_return(Mak_mini_2021_reducido.VWAP,periods=5), log_return(Mak_mini_2021_reducido.VWAP,periods=1).abs(), \n",
        "               upper_shadow(Mak_mini_2021_reducido), lower_shadow(Mak_mini_2021_reducido),log_return(Mak_mini_2021_reducido.Open,periods=1),log_return(Mak_mini_2021_reducido.Close,periods=1)], axis=1).fillna(0)\n",
        "\n",
        "Y_Mak =Mak_mini_2021_reducido[['Target']].fillna(0)\n"
      ],
      "id": "f0c63edc",
      "execution_count": null,
      "outputs": []
    },
    {
      "cell_type": "markdown",
      "metadata": {
        "id": "e89619f8"
      },
      "source": [
        "### Generador Shift"
      ],
      "id": "e89619f8"
    },
    {
      "cell_type": "code",
      "metadata": {
        "id": "0c3206aa"
      },
      "source": [
        "# Shift Iota\n",
        "y_shift_per5 = Y_Iota.shift(periods = 5)\n",
        "y_shift_per1 = Y_Iota.shift()\n",
        "#Shift Maker\n",
        "y_shift_M_per5 = Y_Mak.shift(periods = 5)\n",
        "y_shift_M_per1 = Y_Mak.shift()"
      ],
      "id": "0c3206aa",
      "execution_count": null,
      "outputs": []
    },
    {
      "cell_type": "code",
      "metadata": {
        "id": "8890f62f"
      },
      "source": [
        "X_Iota = X_Iota.assign(Date=Iota_times2)\n",
        "X_Mak = X_Mak.assign(Date = Mak_times2)\n",
        "Y_Iota = Y_Iota.assign(Date=Iota_times2).to_numpy()\n",
        "Y_Mak = Y_Mak.assign(Date = Mak_times2).to_numpy()"
      ],
      "id": "8890f62f",
      "execution_count": null,
      "outputs": []
    },
    {
      "cell_type": "code",
      "metadata": {
        "id": "b8f2c920"
      },
      "source": [
        "X_Iota = X_Iota.assign(y_shift_per5=y_shift_per5)\n",
        "X_Mak = X_Mak.assign(y_shift_per5=y_shift_M_per5)"
      ],
      "id": "b8f2c920",
      "execution_count": null,
      "outputs": []
    },
    {
      "cell_type": "code",
      "metadata": {
        "id": "327f92e3"
      },
      "source": [
        "X_Iota = X_Iota.assign(y_shift_per1=y_shift_per1).fillna(0).to_numpy()\n",
        "X_Mak = X_Mak.assign(y_shift_per1=y_shift_M_per1).fillna(0).to_numpy()"
      ],
      "id": "327f92e3",
      "execution_count": null,
      "outputs": []
    },
    {
      "cell_type": "code",
      "metadata": {
        "id": "e77b0da1"
      },
      "source": [
        "X_Iota = pd.DataFrame(X_Iota,columns = [ 'VWAP', '|VWAP|', 'upper_shadow', 'lower_shadow', 'Open', 'Close','Date','y_shift_per5','y_shift_per1'] )\n",
        "Y_Iota = pd.DataFrame(Y_Iota,columns = ['Target','Date'])\n",
        "\n",
        "X_Mak = pd.DataFrame(X_Mak,columns = [ 'VWAP', '|VWAP|', 'upper_shadow', 'lower_shadow', 'Open', 'Close','Date','y_shift_per5','y_shift_per1'] )\n",
        "Y_Mak = pd.DataFrame(Y_Mak,columns = ['Target','Date'])\n"
      ],
      "id": "e77b0da1",
      "execution_count": null,
      "outputs": []
    },
    {
      "cell_type": "markdown",
      "metadata": {
        "id": "7311a9be"
      },
      "source": [
        "### Partición en conjunto entrenamiento y prueba"
      ],
      "id": "7311a9be"
    },
    {
      "cell_type": "code",
      "metadata": {
        "id": "e415658a"
      },
      "source": [
        "# Partición en conjunto de entrenamiento y de pueba para la criptomoneda IOTA\n",
        "tscv = TimeSeriesSplit()\n",
        "\n",
        "for train_index, test_index in tscv.split(X_Iota):\n",
        "    X_train_Iota, X_test_Iota = X_Iota.loc[train_index], X_Iota.loc[test_index]\n",
        "    y_train_Iota, y_test_Iota = Y_Iota.loc[train_index], Y_Iota.loc[test_index]    \n",
        "    "
      ],
      "id": "e415658a",
      "execution_count": null,
      "outputs": []
    },
    {
      "cell_type": "code",
      "metadata": {
        "id": "e8138bc2"
      },
      "source": [
        "# Partición en conjunto de entrenamiento y de pueba para la criptomoneda Maker\n",
        "tscv2 = TimeSeriesSplit()\n",
        "\n",
        "for train_index, test_index in tscv2.split(X_Mak):\n",
        "    X_train_Mak, X_test_Mak = X_Mak.loc[train_index], X_Mak.loc[test_index]\n",
        "    y_train_Mak, y_test_Mak = Y_Mak.loc[train_index], Y_Mak.loc[test_index] "
      ],
      "id": "e8138bc2",
      "execution_count": null,
      "outputs": []
    },
    {
      "cell_type": "code",
      "metadata": {
        "id": "03506942"
      },
      "source": [
        "X_train_Iota = X_train_Iota.set_index('Date')\n",
        "X_test_Iota = X_test_Iota.set_index('Date')\n",
        "X_train_Mak = X_train_Mak.set_index('Date')\n",
        "X_test_Mak = X_test_Mak.set_index('Date')\n",
        "y_train_Iota = y_train_Iota.set_index('Date')\n",
        "y_test_Iota = y_test_Iota.set_index('Date')\n",
        "y_train_Mak = y_train_Mak.set_index('Date')\n",
        "y_test_Mak = y_test_Mak.set_index('Date')"
      ],
      "id": "03506942",
      "execution_count": null,
      "outputs": []
    },
    {
      "cell_type": "markdown",
      "metadata": {
        "id": "1896cd55"
      },
      "source": [
        "## Estandarización "
      ],
      "id": "1896cd55"
    },
    {
      "cell_type": "code",
      "metadata": {
        "id": "c00ec99f"
      },
      "source": [
        "scaler = StandardScaler()\n",
        "\n",
        "X_Iota_train_scaled = scaler.fit_transform(X_train_Iota)\n",
        "X_Iota_test_scaled = scaler.transform(X_test_Iota)\n",
        "\n",
        "X_Mak_train_scaled = scaler.fit_transform(X_train_Mak)\n",
        "X_Mak_test_scaled = scaler.transform(X_test_Mak)\n",
        "\n",
        "y_train_Iota_scaled = scaler.fit_transform(y_train_Iota)\n",
        "y_test_Iota_scaled = scaler.fit_transform(y_test_Iota)\n",
        "\n",
        "y_train_Mak_scaled = scaler.fit_transform(y_train_Mak)\n",
        "y_test_Mak_scaled = scaler.fit_transform(y_test_Mak)"
      ],
      "id": "c00ec99f",
      "execution_count": null,
      "outputs": []
    },
    {
      "cell_type": "code",
      "metadata": {
        "id": "b2cf5ebd"
      },
      "source": [
        "X_Iota_train_scaled = pd.DataFrame(X_Iota_train_scaled,columns = [ 'VWAP', '|VWAP|', 'upper_shadow', 'lower_shadow', 'Open', 'Close','y_shift_per5','y_shift_per1'], index=X_train_Iota.index)\n",
        "X_Iota_test_scaled = pd.DataFrame(X_Iota_test_scaled,columns = [ 'VWAP', '|VWAP|', 'upper_shadow', 'lower_shadow', 'Open', 'Close','y_shift_per5','y_shift_per1'], index=X_test_Iota.index)\n",
        "X_Mak_train_scaled = pd.DataFrame(X_Mak_train_scaled,columns = [ 'VWAP', '|VWAP|', 'upper_shadow', 'lower_shadow', 'Open', 'Close','y_shift_per5','y_shift_per1'], index=X_train_Mak.index)\n",
        "X_Mak_test_scaled = pd.DataFrame(X_Mak_test_scaled,columns = [ 'VWAP', '|VWAP|', 'upper_shadow', 'lower_shadow', 'Open', 'Close','y_shift_per5','y_shift_per1'], index=X_test_Mak.index) \n",
        "y_train_Iota_scaled = scaler.fit_transform(y_train_Iota)\n",
        "y_test_Iota_scaled = scaler.fit_transform(y_test_Iota)\n",
        "y_train_Iota_scaled = pd.DataFrame(y_train_Iota_scaled,columns = ['target'], index=y_train_Iota.index)\n",
        "y_test_Iota_scaled = pd.DataFrame(y_test_Iota_scaled,columns = ['target'], index=y_test_Iota.index)\n",
        "y_train_Mak_scaled = pd.DataFrame(y_train_Mak_scaled,columns = ['target'], index=y_train_Mak.index)\n",
        "y_test_Mak_scaled = pd.DataFrame(y_test_Mak_scaled,columns = ['target'], index=y_test_Mak.index)"
      ],
      "id": "b2cf5ebd",
      "execution_count": null,
      "outputs": []
    },
    {
      "cell_type": "markdown",
      "metadata": {
        "id": "8e2617ca"
      },
      "source": [
        "## Modelos\n",
        "Iniciamos tranformando la variable respuesta en una serie."
      ],
      "id": "8e2617ca"
    },
    {
      "cell_type": "code",
      "metadata": {
        "id": "60e363ae"
      },
      "source": [
        "Y_Train_Iota = pd.Series(y_train_Iota_scaled.target, index=y_train_Iota_scaled.index)\n",
        "Y_Test_Iota = pd.Series(y_test_Iota_scaled.target, index=y_test_Iota_scaled.index)"
      ],
      "id": "60e363ae",
      "execution_count": null,
      "outputs": []
    },
    {
      "cell_type": "code",
      "metadata": {
        "id": "62faf249"
      },
      "source": [
        "Y_Train_Mak = pd.Series(y_train_Mak_scaled.target, index=y_train_Mak_scaled.index)\n",
        "Y_Test_Mak = pd.Series(y_test_Mak_scaled.target, index=y_test_Mak_scaled.index)"
      ],
      "id": "62faf249",
      "execution_count": null,
      "outputs": []
    },
    {
      "cell_type": "markdown",
      "metadata": {
        "id": "d894c1f2"
      },
      "source": [
        "## Forescast Autoregressor \n",
        "### Criptomoneda - Iota"
      ],
      "id": "d894c1f2"
    },
    {
      "cell_type": "code",
      "metadata": {
        "scrolled": true,
        "id": "0254f677"
      },
      "source": [
        "f, ax = plt.subplots(nrows=4, ncols=2, figsize=(30,10))\n",
        "\n",
        "\n",
        "plot_acf(X_Iota_train_scaled['VWAP'], lags=90, ax=ax[0][0],title = \"Autocorrelación - Iota(VWAP)\")\n",
        "plot_acf(X_Iota_train_scaled['|VWAP|'], lags=90, ax=ax[0][1],title = \"Autocorrelación - Iota(|VWAP|)\")\n",
        "plot_acf(X_Iota_train_scaled['upper_shadow'], lags=90, ax=ax[1][0],title = \"Autocorrelación - Iota(upper_shadow)\")\n",
        "plot_acf(X_Iota_train_scaled['lower_shadow'], lags=90, ax=ax[1][1],title = \"Autocorrelación - Iota(lower_shadow)\")\n",
        "plot_acf(X_Iota_train_scaled['Close'], lags=90, ax=ax[2][0],title = \"Autocorrelación - Iota(Close)\")\n",
        "plot_acf(X_Iota_train_scaled['Open'], lags=90, ax=ax[2][1],title = \"Autocorrelación - Iota(Open)\")\n",
        "plot_acf(X_Iota_train_scaled['y_shift_per5'], lags=90, ax=ax[3][0],title = \"Autocorrelación - Iota(y_shift(periodo = 5))\")\n",
        "plot_acf(X_Iota_train_scaled['y_shift_per1'], lags=90, ax=ax[3][1],title = \"Autocorrelación - Iota(y_shift(periodo = 1)\")\n",
        "\n",
        "plt.tight_layout()\n",
        "plt.show()"
      ],
      "id": "0254f677",
      "execution_count": null,
      "outputs": []
    },
    {
      "cell_type": "code",
      "metadata": {
        "id": "7b927bf1"
      },
      "source": [
        "plot_acf(Y_Train_Iota , lags=90,title = \"Autocorrelación - IOTA(Target)\") \n",
        "\n",
        "plt.tight_layout()\n",
        "plt.show()"
      ],
      "id": "7b927bf1",
      "execution_count": null,
      "outputs": []
    },
    {
      "cell_type": "code",
      "metadata": {
        "id": "c8c1eeed"
      },
      "source": [
        "forecaster_rf = ForecasterAutoreg(\n",
        "                    regressor=RandomForestRegressor( random_state=123, n_estimators = 100),\n",
        "                    lags=90)"
      ],
      "id": "c8c1eeed",
      "execution_count": null,
      "outputs": []
    },
    {
      "cell_type": "code",
      "metadata": {
        "id": "ff1848f9"
      },
      "source": [
        "forecaster_rf.fit(Y_Train_Iota, exog = X_Iota_train_scaled)"
      ],
      "id": "ff1848f9",
      "execution_count": null,
      "outputs": []
    },
    {
      "cell_type": "code",
      "metadata": {
        "id": "f38864ee"
      },
      "source": [
        "\n",
        "predicciones = forecaster_rf.predict(steps =len(Y_Test_Iota), exog = X_Iota_test_scaled )\n",
        "\n",
        "\n",
        "# Se añade el índice temporal a las predicciones\n",
        "predicciones = pd.Series(data=predicciones, index=Y_Test_Iota.index)\n",
        "predicciones.head()"
      ],
      "id": "f38864ee",
      "execution_count": null,
      "outputs": []
    },
    {
      "cell_type": "markdown",
      "metadata": {
        "id": "f8d4aee1"
      },
      "source": [
        "### Metricas"
      ],
      "id": "f8d4aee1"
    },
    {
      "cell_type": "code",
      "metadata": {
        "id": "24663844"
      },
      "source": [
        "def pcorrelation (y_pred,y_test,moneda):\n",
        "    print('Test score:' + moneda, f\"{np.corrcoef(y_pred, y_test)[0,1]:.2f}\")"
      ],
      "id": "24663844",
      "execution_count": null,
      "outputs": []
    },
    {
      "cell_type": "code",
      "metadata": {
        "id": "77e06b43"
      },
      "source": [
        "error_mse = mean_squared_error(\n",
        "                y_true = Y_Test_Iota,\n",
        "                y_pred = predicciones\n",
        "            )\n",
        "\n",
        "rmse = np.sqrt(error_mse)\n",
        "pcorrelation(predicciones,Y_Test_Iota,'IOTA')\n",
        "print('Test RMSE: %.3f' % rmse)\n",
        "print(f\"Error de test (mse): {error_mse}\")"
      ],
      "id": "77e06b43",
      "execution_count": null,
      "outputs": []
    },
    {
      "cell_type": "markdown",
      "metadata": {
        "id": "82c88c9d"
      },
      "source": [
        "### Criptomoneda - Maker"
      ],
      "id": "82c88c9d"
    },
    {
      "cell_type": "code",
      "metadata": {
        "id": "ce5cf119"
      },
      "source": [
        "f, ax = plt.subplots(nrows=4, ncols=2, figsize=(30,10))\n",
        "\n",
        "\n",
        "plot_acf(X_Mak_train_scaled['VWAP'], lags=90, ax=ax[0][0],title = \"Autocorrelación - Iota(VWAP)\")\n",
        "plot_acf(X_Mak_train_scaled['|VWAP|'], lags=90, ax=ax[0][1],title = \"Autocorrelación - Iota(|VWAP|)\")\n",
        "plot_acf(X_Mak_train_scaled['upper_shadow'], lags=90, ax=ax[1][0],title = \"Autocorrelación - Iota(upper_shadow)\")\n",
        "plot_acf(X_Mak_train_scaled['lower_shadow'], lags=90, ax=ax[1][1],title = \"Autocorrelación - Iota(lower_shadow)\")\n",
        "plot_acf(X_Mak_train_scaled['Close'], lags=90, ax=ax[2][0],title = \"Autocorrelación - Iota(Close)\")\n",
        "plot_acf(X_Mak_train_scaled['Open'], lags=90, ax=ax[2][1],title = \"Autocorrelación - Iota(Open)\")\n",
        "plot_acf(X_Mak_train_scaled['y_shift_per5'], lags=90, ax=ax[3][0],title = \"Autocorrelación - Mak(y_shift(periodo = 5))\")\n",
        "plot_acf(X_Mak_train_scaled['y_shift_per1'], lags=90, ax=ax[3][1],title = \"Autocorrelación - Mak(y_shift(periodo = 1)\")\n",
        "\n",
        "\n",
        "plt.tight_layout()\n",
        "plt.show()"
      ],
      "id": "ce5cf119",
      "execution_count": null,
      "outputs": []
    },
    {
      "cell_type": "code",
      "metadata": {
        "id": "32ca76b9"
      },
      "source": [
        "plot_acf(Y_Train_Mak , lags=90,title = \"Autocorrelación - Mak(Target)\") \n",
        "\n",
        "plt.tight_layout()\n",
        "plt.show()"
      ],
      "id": "32ca76b9",
      "execution_count": null,
      "outputs": []
    },
    {
      "cell_type": "code",
      "metadata": {
        "id": "5079dce0"
      },
      "source": [
        "forecaster_rf = ForecasterAutoreg(\n",
        "                    regressor=RandomForestRegressor(random_state=123),\n",
        "                    lags=6)"
      ],
      "id": "5079dce0",
      "execution_count": null,
      "outputs": []
    },
    {
      "cell_type": "code",
      "metadata": {
        "id": "95b6a79b"
      },
      "source": [
        "forecaster_rf.fit(Y_Train_Mak, exog = X_Mak_train_scaled)"
      ],
      "id": "95b6a79b",
      "execution_count": null,
      "outputs": []
    },
    {
      "cell_type": "code",
      "metadata": {
        "id": "18e9dd7b"
      },
      "source": [
        "\n",
        "predicciones = forecaster_rf.predict(steps =len(Y_Test_Mak), exog = X_Mak_test_scaled )\n",
        "\n",
        "\n",
        "# Se añade el índice temporal a las predicciones\n",
        "predicciones = pd.Series(data=predicciones, index=Y_Test_Mak.index)\n",
        "predicciones.head()"
      ],
      "id": "18e9dd7b",
      "execution_count": null,
      "outputs": []
    },
    {
      "cell_type": "markdown",
      "metadata": {
        "id": "d2ee4ba4"
      },
      "source": [
        "### Metricas"
      ],
      "id": "d2ee4ba4"
    },
    {
      "cell_type": "code",
      "metadata": {
        "id": "b4586d43"
      },
      "source": [
        "error_mse = mean_squared_error(\n",
        "                y_true = Y_Test_Mak,\n",
        "                y_pred = predicciones\n",
        "            )\n",
        "\n",
        "rmse = np.sqrt(error_mse)\n",
        "pcorrelation(predicciones,Y_Test_Mak,'Mak')\n",
        "print('Test RMSE: %.3f' % rmse)\n",
        "print(f\"Error de test (mse): {error_mse}\")"
      ],
      "id": "b4586d43",
      "execution_count": null,
      "outputs": []
    },
    {
      "cell_type": "markdown",
      "metadata": {
        "id": "c87e7c42"
      },
      "source": [
        "## ARIMA Model\n",
        "### Evaluación de hiperparametros"
      ],
      "id": "c87e7c42"
    },
    {
      "cell_type": "code",
      "metadata": {
        "id": "fd2792b9"
      },
      "source": [
        "def evaluate_arima_model(y_test,y_train,x_test,x_train, arima_order):\n",
        "    history = [x for x in y_train]\n",
        "    index = 0\n",
        "    # make predictions\n",
        "    predictions = []\n",
        "    for t in range(len(y_test)):\n",
        "        model = ARIMA(y_train, exog = x_train, order=arima_order)\n",
        "        model_fit = model.fit()\n",
        "        yhat = model_fit.forecast(exog = x_test.iloc[index])[0]\n",
        "        index += 1\n",
        "        predictions.append(yhat)\n",
        "        history.append(y_test.iloc[t])\n",
        "    # calculate out of sample error\n",
        "    rmse = np.sqrt(mean_squared_error(y_test, predictions))\n",
        "    return rmse"
      ],
      "id": "fd2792b9",
      "execution_count": null,
      "outputs": []
    },
    {
      "cell_type": "code",
      "metadata": {
        "id": "7fdd73c6"
      },
      "source": [
        "def evaluate_models(y_test,y_train,x_test,x_train, p_values, d_values, q_values):\n",
        "    y_test = y_test.astype('float32')\n",
        "    y_train = y_train.astype('float32')\n",
        "    x_test = x_test.astype('float32')\n",
        "    x_train = x_train.astype('float32')\n",
        "    best_score, best_cfg = float(\"inf\"), None\n",
        "    for p in p_values:\n",
        "        for d in d_values:\n",
        "            for q in q_values:\n",
        "                order = (p,d,q)\n",
        "                try:\n",
        "                    rmse = evaluate_arima_model(y_test,y_train,x_test,x_train, order)\n",
        "                    print(rmse)\n",
        "                    if rmse < best_score:\n",
        "                        best_score, best_cfg = rmse, order\n",
        "                    print('ARIMA%s RMSE=%.3f' % (order,rmse))\n",
        "                except:\n",
        "                    continue\n",
        "    \n",
        "    print('Best ARIMA%s RMSE=%.3f' % (best_cfg, best_score))"
      ],
      "id": "7fdd73c6",
      "execution_count": null,
      "outputs": []
    },
    {
      "cell_type": "code",
      "metadata": {
        "id": "d526a6f1"
      },
      "source": [
        "p_values = [1, 5, 0]\n",
        "d_values = [1, 2]\n",
        "q_values = [1, 0]\n",
        "\n",
        "evaluate_models(Y_Test_Iota,Y_Train_Iota,X_Iota_test_scaled,X_Iota_train_scaled, p_values, d_values, q_values)"
      ],
      "id": "d526a6f1",
      "execution_count": null,
      "outputs": []
    },
    {
      "cell_type": "markdown",
      "metadata": {
        "id": "0ff3ad5b"
      },
      "source": [
        "## Iota "
      ],
      "id": "0ff3ad5b"
    },
    {
      "cell_type": "code",
      "metadata": {
        "id": "099aa754"
      },
      "source": [
        "model_Iota_Arima = ARIMA(endog = Y_Train_Iota , exog = X_Iota_train_scaled, order=(10,0,10))\n",
        "model_Iota_Arima_fit = model_Iota_Arima.fit()\n",
        "# summary of fit model\n",
        "print(model_Iota_Arima_fit.summary())"
      ],
      "id": "099aa754",
      "execution_count": null,
      "outputs": []
    },
    {
      "cell_type": "markdown",
      "metadata": {
        "id": "b67c8cbe"
      },
      "source": [
        "### Predicciones "
      ],
      "id": "b67c8cbe"
    },
    {
      "cell_type": "code",
      "metadata": {
        "id": "8fa691e4"
      },
      "source": [
        "predic=model_Iota_Arima_fit.predict(start =len(Y_Train_Iota),end=len(Y_Train_Iota)+len(Y_Test_Iota)-1,exog = X_Iota_test_scaled)\n"
      ],
      "id": "8fa691e4",
      "execution_count": null,
      "outputs": []
    },
    {
      "cell_type": "markdown",
      "metadata": {
        "id": "a44aad06"
      },
      "source": [
        "### Metricas"
      ],
      "id": "a44aad06"
    },
    {
      "cell_type": "code",
      "metadata": {
        "id": "d8682a77"
      },
      "source": [
        "error_mse = mean_squared_error(\n",
        "                y_true = Y_Test_Iota,\n",
        "                y_pred = predic\n",
        "            )\n",
        "\n",
        "rmse = np.sqrt(error_mse)\n",
        "pcorrelation(predic,Y_Test_Iota,'IOTA')\n",
        "print('Test RMSE: %.3f' % rmse)\n",
        "print(f\"Error de test (mse): {error_mse}\")"
      ],
      "id": "d8682a77",
      "execution_count": null,
      "outputs": []
    },
    {
      "cell_type": "markdown",
      "metadata": {
        "id": "d1f47c54"
      },
      "source": [
        "### Residuales "
      ],
      "id": "d1f47c54"
    },
    {
      "cell_type": "code",
      "metadata": {
        "id": "20f7bea9"
      },
      "source": [
        "# line plot of residuals\n",
        "residuals = pd.DataFrame(model_Iota_Arima_fit.resid)\n",
        "residuals.plot()\n",
        "plt.show()"
      ],
      "id": "20f7bea9",
      "execution_count": null,
      "outputs": []
    },
    {
      "cell_type": "code",
      "metadata": {
        "id": "4bb2f8b9"
      },
      "source": [
        "# Densidad de las residuales\n",
        "residuals.plot(kind='kde');"
      ],
      "id": "4bb2f8b9",
      "execution_count": null,
      "outputs": []
    },
    {
      "cell_type": "code",
      "metadata": {
        "id": "60bf2bb9"
      },
      "source": [
        "sns.set(color_codes=True)\n",
        "sns.kdeplot(np.hstack(residuals.values), shade=True, color=\"r\").set(xlim=(-6, 6))"
      ],
      "id": "60bf2bb9",
      "execution_count": null,
      "outputs": []
    },
    {
      "cell_type": "code",
      "metadata": {
        "id": "c538b999"
      },
      "source": [
        "residuals.describe()"
      ],
      "id": "c538b999",
      "execution_count": null,
      "outputs": []
    },
    {
      "cell_type": "markdown",
      "metadata": {
        "id": "f0fe5d15"
      },
      "source": [
        "### Rolling Forecast con Arima "
      ],
      "id": "f0fe5d15"
    },
    {
      "cell_type": "code",
      "metadata": {
        "id": "051e3294"
      },
      "source": [
        "history = []\n",
        "index = 0\n",
        "# make predictions\n",
        "predictions = []\n",
        "for t in range(len(Y_Test_Iota)):\n",
        "    model = ARIMA(Y_Train_Iota, exog = X_Iota_train_scaled, order=arima_order)\n",
        "    model_fit = model.fit()\n",
        "    yhat = model_fit.forecast(exog = X_Iota_test_scaled.iloc[index])[0]\n",
        "    index += 1\n",
        "    predictions.append(yhat)\n",
        "    history.append(Y_Test_Iota[t])"
      ],
      "id": "051e3294",
      "execution_count": null,
      "outputs": []
    },
    {
      "cell_type": "markdown",
      "metadata": {
        "id": "506c608a"
      },
      "source": [
        "### Metricas"
      ],
      "id": "506c608a"
    },
    {
      "cell_type": "code",
      "metadata": {
        "id": "efbe9d06"
      },
      "source": [
        "error_mse = mean_squared_error(\n",
        "                y_true = Y_Test_Iota,\n",
        "                y_pred = predictions\n",
        "            )\n",
        "\n",
        "rmse = np.sqrt(error_mse)\n",
        "pcorrelation(predictions,Y_Test_Iota,'IOTA')\n",
        "print('Test RMSE: %.3f' % rmse)\n",
        "print(f\"Error de test (mse): {error_mse}\")"
      ],
      "id": "efbe9d06",
      "execution_count": null,
      "outputs": []
    },
    {
      "cell_type": "markdown",
      "metadata": {
        "id": "a2748692"
      },
      "source": [
        "### Criptomoneda-Maker"
      ],
      "id": "a2748692"
    },
    {
      "cell_type": "code",
      "metadata": {
        "id": "e8c8116b"
      },
      "source": [
        "p_values = [1, 5, 6]\n",
        "d_values = [0, 1]\n",
        "q_values = [0, 1]\n",
        "\n",
        "evaluate_models(Y_Test_Mak,Y_Train_Mak,X_Mak_test_scaled,X_Mak_train_scaled, p_values, d_values, q_values)"
      ],
      "id": "e8c8116b",
      "execution_count": null,
      "outputs": []
    },
    {
      "cell_type": "markdown",
      "metadata": {
        "id": "e047ca20"
      },
      "source": [
        "Teniendo en cuenta que con la función de evalución de hiperparametros tuvo un mejor RMSE con (1,0,1), realizaremos el modelo ARIMA con estos valores para ver, las residuales y la metrica de correlación.\n",
        "\n",
        "### Modelo Arima- Criptomoneda Maker"
      ],
      "id": "e047ca20"
    },
    {
      "cell_type": "code",
      "metadata": {
        "id": "61a58479"
      },
      "source": [
        "model_Mak_Arima = ARIMA(endog = Y_Train_Mak , exog = X_Mak_train_scaled, order=(1,0,1))\n",
        "model_Mak_Arima_fit = model_Mak_Arima.fit()\n",
        "# summary of fit model\n",
        "print(model_Mak_Arima_fit.summary())"
      ],
      "id": "61a58479",
      "execution_count": null,
      "outputs": []
    },
    {
      "cell_type": "markdown",
      "metadata": {
        "id": "8d92a98f"
      },
      "source": [
        "### Predicciones"
      ],
      "id": "8d92a98f"
    },
    {
      "cell_type": "code",
      "metadata": {
        "id": "f946f47b"
      },
      "source": [
        "predic=model_Mak_Arima_fit.predict(start =len(Y_Train_Mak),end=len(Y_Train_Mak)+len(Y_Test_Mak)-1,exog = X_Mak_test_scaled)\n"
      ],
      "id": "f946f47b",
      "execution_count": null,
      "outputs": []
    },
    {
      "cell_type": "markdown",
      "metadata": {
        "id": "9767ca43"
      },
      "source": [
        "### Metrica"
      ],
      "id": "9767ca43"
    },
    {
      "cell_type": "code",
      "metadata": {
        "id": "a83d9e58"
      },
      "source": [
        "error_mse = mean_squared_error(\n",
        "                y_true = Y_Test_Mak,\n",
        "                y_pred = predic\n",
        "            )\n",
        "\n",
        "rmse = np.sqrt(error_mse)\n",
        "pcorrelation(predic,Y_Test_Mak,'Maker')\n",
        "print('Test RMSE: %.3f' % rmse)\n",
        "print(f\"Error de test (mse): {error_mse}\")"
      ],
      "id": "a83d9e58",
      "execution_count": null,
      "outputs": []
    },
    {
      "cell_type": "markdown",
      "metadata": {
        "id": "37c4c5f0"
      },
      "source": [
        "### Residuales "
      ],
      "id": "37c4c5f0"
    },
    {
      "cell_type": "code",
      "metadata": {
        "id": "8cd82535"
      },
      "source": [
        "# line plot of residuals\n",
        "residuals = pd.DataFrame(model_Mak_Arima_fit.resid)\n",
        "residuals.plot()\n",
        "plt.show()"
      ],
      "id": "8cd82535",
      "execution_count": null,
      "outputs": []
    },
    {
      "cell_type": "code",
      "metadata": {
        "id": "32eb07b9"
      },
      "source": [
        "# Densidad de las residuales\n",
        "residuals.plot(kind='kde');"
      ],
      "id": "32eb07b9",
      "execution_count": null,
      "outputs": []
    },
    {
      "cell_type": "code",
      "metadata": {
        "id": "0dc49a20"
      },
      "source": [
        "sns.set(color_codes=True)\n",
        "sns.kdeplot(np.hstack(residuals.values), shade=True, color=\"r\").set(xlim=(-4, 4))"
      ],
      "id": "0dc49a20",
      "execution_count": null,
      "outputs": []
    },
    {
      "cell_type": "code",
      "metadata": {
        "id": "0ff5c385"
      },
      "source": [
        "residuals.describe()"
      ],
      "id": "0ff5c385",
      "execution_count": null,
      "outputs": []
    },
    {
      "cell_type": "markdown",
      "metadata": {
        "id": "a0bc56a2"
      },
      "source": [
        "## Modelo SARIMA\n",
        "Para los siguientes modelos tomaremos el mismo order que nos dio en los hiperparametros de ARIMA."
      ],
      "id": "a0bc56a2"
    },
    {
      "cell_type": "markdown",
      "metadata": {
        "id": "f85fac0c"
      },
      "source": [
        "### Criptomoneda - IOTA"
      ],
      "id": "f85fac0c"
    },
    {
      "cell_type": "code",
      "metadata": {
        "id": "7b57b8ad"
      },
      "source": [
        "model_Iota_sarima = SARIMAX(endog = Y_Train_Iota , exog = X_Iota_train_scaled, order=(5,1,0))\n",
        "res = model_Iota_sarima.fit(disp=False)\n",
        "print(res.summary())"
      ],
      "id": "7b57b8ad",
      "execution_count": null,
      "outputs": []
    },
    {
      "cell_type": "markdown",
      "metadata": {
        "id": "be894c80"
      },
      "source": [
        "### Predicciones"
      ],
      "id": "be894c80"
    },
    {
      "cell_type": "code",
      "metadata": {
        "id": "45bba442"
      },
      "source": [
        "predict = res.get_prediction(start =len(Y_Train_Iota),end=len(Y_Train_Iota)+len(Y_Test_Iota)-1,exog = X_Iota_test_scaled)\n",
        "predict_ci = predict.conf_int()"
      ],
      "id": "45bba442",
      "execution_count": null,
      "outputs": []
    },
    {
      "cell_type": "code",
      "metadata": {
        "id": "4c937923"
      },
      "source": [
        "# Graph\n",
        "fig, ax = plt.subplots(figsize=(9,4))\n",
        "npre = 4\n",
        "ax.set(title='Criptomoneda - Iota', xlabel='Date', ylabel='Target')\n",
        "\n",
        "# Plot data points\n",
        "Y_Test_Iota.plot(ax=ax, style='o', label='Observed')\n",
        "\n",
        "# Plot predictions\n",
        "predict.predicted_mean.plot(ax=ax, style='r--', label='One-step-ahead forecast')\n",
        "ci = predict_ci\n",
        "ax.fill_between(ci.index, ci.iloc[:,0], ci.iloc[:,1], color='r', alpha=0.1)\n",
        "\n",
        "legend = ax.legend()"
      ],
      "id": "4c937923",
      "execution_count": null,
      "outputs": []
    },
    {
      "cell_type": "code",
      "metadata": {
        "id": "e9d58294"
      },
      "source": [
        "predict = res.predict(start =len(Y_Train_Iota),end=len(Y_Train_Iota)+len(Y_Test_Iota)-1,exog = X_Iota_test_scaled)"
      ],
      "id": "e9d58294",
      "execution_count": null,
      "outputs": []
    },
    {
      "cell_type": "markdown",
      "metadata": {
        "id": "acf8d9ae"
      },
      "source": [
        "### Metricas"
      ],
      "id": "acf8d9ae"
    },
    {
      "cell_type": "code",
      "metadata": {
        "id": "6777157e"
      },
      "source": [
        "error_mse = mean_squared_error(\n",
        "                y_true = Y_Test_Iota,\n",
        "                y_pred = predict\n",
        "            )\n",
        "\n",
        "rmse = np.sqrt(error_mse)\n",
        "pcorrelation(predict,Y_Test_Iota,'Iota')\n",
        "print('Test RMSE: %.3f' % rmse)\n",
        "print(f\"Error de test (mse): {error_mse}\")"
      ],
      "id": "6777157e",
      "execution_count": null,
      "outputs": []
    },
    {
      "cell_type": "markdown",
      "metadata": {
        "id": "01a6d15d"
      },
      "source": [
        "### Criptomoneda - Maker"
      ],
      "id": "01a6d15d"
    },
    {
      "cell_type": "code",
      "metadata": {
        "id": "73701c6d"
      },
      "source": [
        "model_Mak_sarima = SARIMAX(endog = Y_Train_Mak , exog = X_Mak_train_scaled, order=(5,1,0))\n",
        "res = model_Mak_sarima .fit(disp=False)\n",
        "print(res.summary())"
      ],
      "id": "73701c6d",
      "execution_count": null,
      "outputs": []
    },
    {
      "cell_type": "markdown",
      "metadata": {
        "id": "c01dd373"
      },
      "source": [
        "### Predicciones"
      ],
      "id": "c01dd373"
    },
    {
      "cell_type": "code",
      "metadata": {
        "id": "1309dd1e"
      },
      "source": [
        "predict = res.get_prediction(start =len(Y_Train_Mak),end=len(Y_Train_Mak)+len(Y_Test_Mak)-1,exog = X_Mak_test_scaled)\n",
        "predict_ci = predict.conf_int()"
      ],
      "id": "1309dd1e",
      "execution_count": null,
      "outputs": []
    },
    {
      "cell_type": "code",
      "metadata": {
        "id": "53b4b440"
      },
      "source": [
        "# Graph\n",
        "fig, ax = plt.subplots(figsize=(9,4))\n",
        "npre = 4\n",
        "ax.set(title='Criptomoneda - Maker', xlabel='Date', ylabel='Target')\n",
        "\n",
        "# Plot data points\n",
        "Y_Test_Mak.plot(ax=ax, style='o', label='Observed')\n",
        "\n",
        "# Plot predictions\n",
        "predict.predicted_mean.plot(ax=ax, style='r--', label='One-step-ahead forecast')\n",
        "ci = predict_ci\n",
        "ax.fill_between(ci.index, ci.iloc[:,0], ci.iloc[:,1], color='r', alpha=0.1)\n",
        "\n",
        "legend = ax.legend()"
      ],
      "id": "53b4b440",
      "execution_count": null,
      "outputs": []
    },
    {
      "cell_type": "code",
      "metadata": {
        "id": "ad9743e2"
      },
      "source": [
        "predict = res.predict(start =len(Y_Train_Mak),end=len(Y_Train_Mak)+len(Y_Test_Mak)-1,exog = X_Mak_test_scaled)"
      ],
      "id": "ad9743e2",
      "execution_count": null,
      "outputs": []
    },
    {
      "cell_type": "markdown",
      "metadata": {
        "id": "bb3c88ef"
      },
      "source": [
        "### Metricas"
      ],
      "id": "bb3c88ef"
    },
    {
      "cell_type": "code",
      "metadata": {
        "id": "93c04537"
      },
      "source": [
        "error_mse = mean_squared_error(\n",
        "                y_true = Y_Test_Mak,\n",
        "                y_pred = predict\n",
        "            )\n",
        "\n",
        "rmse = np.sqrt(error_mse)\n",
        "pcorrelation(predict,Y_Test_Mak,'Maker')\n",
        "print('Test RMSE: %.3f' % rmse)\n",
        "print(f\"Error de test (mse): {error_mse}\")"
      ],
      "id": "93c04537",
      "execution_count": null,
      "outputs": []
    },
    {
      "cell_type": "markdown",
      "metadata": {
        "id": "2e9aa167"
      },
      "source": [
        "## Modelo Phophet"
      ],
      "id": "2e9aa167"
    },
    {
      "cell_type": "markdown",
      "metadata": {
        "id": "6645c5b5"
      },
      "source": [
        "### Criptomoneda - Iota "
      ],
      "id": "6645c5b5"
    },
    {
      "cell_type": "markdown",
      "metadata": {
        "id": "c27ba097"
      },
      "source": [
        "### Criptomoneda - Maker"
      ],
      "id": "c27ba097"
    },
    {
      "cell_type": "markdown",
      "metadata": {
        "id": "25809e61"
      },
      "source": [
        "## Modelos Adicionales"
      ],
      "id": "25809e61"
    },
    {
      "cell_type": "markdown",
      "metadata": {
        "id": "bd83a90e"
      },
      "source": [
        "### Regresión lineal\n",
        "Realizaremos una regresión lineal normal"
      ],
      "id": "bd83a90e"
    },
    {
      "cell_type": "markdown",
      "metadata": {
        "id": "e9dae174"
      },
      "source": [
        "### Criptomoneda - Iota "
      ],
      "id": "e9dae174"
    },
    {
      "cell_type": "code",
      "metadata": {
        "id": "a5ab4e6d"
      },
      "source": [
        "lr = LinearRegression()\n",
        "lr.fit(X_Iota_train_scaled,Y_Train_Iota)\n",
        "### Predicciones\n",
        "y_pred_lr_Iota = lr.predict(X_Iota_test_scaled)\n"
      ],
      "id": "a5ab4e6d",
      "execution_count": null,
      "outputs": []
    },
    {
      "cell_type": "code",
      "metadata": {
        "id": "3cda8967"
      },
      "source": [
        "error_mse = mean_squared_error(\n",
        "                y_true = Y_Test_Iota,\n",
        "                y_pred =y_pred_lr_Iota\n",
        "            )\n",
        "\n",
        "rmse = np.sqrt(error_mse)\n",
        "pcorrelation(y_pred_lr_Iota,Y_Test_Iota,'Iota')\n",
        "print('Test RMSE: %.3f' % rmse)\n",
        "print(f\"Error de test (mse): {error_mse}\")"
      ],
      "id": "3cda8967",
      "execution_count": null,
      "outputs": []
    },
    {
      "cell_type": "markdown",
      "metadata": {
        "id": "222548ac"
      },
      "source": [
        "### Criptomoneda - Mak "
      ],
      "id": "222548ac"
    },
    {
      "cell_type": "code",
      "metadata": {
        "id": "80794fc5"
      },
      "source": [
        "lr.fit(X_Mak_train_scaled,Y_Train_Mak)\n",
        "### Prediciones\n",
        "y_pred_lr_Mak = lr.predict(X_Mak_test_scaled)"
      ],
      "id": "80794fc5",
      "execution_count": null,
      "outputs": []
    },
    {
      "cell_type": "code",
      "metadata": {
        "id": "695f1289"
      },
      "source": [
        "error_mse = mean_squared_error(\n",
        "                y_true = Y_Test_Mak,\n",
        "                y_pred =y_pred_lr_Mak\n",
        "            )\n",
        "\n",
        "rmse = np.sqrt(error_mse)\n",
        "pcorrelation(y_pred_lr_Mak,Y_Test_Mak,'Maker')\n",
        "print('Test RMSE: %.3f' % rmse)\n",
        "print(f\"Error de test (mse): {error_mse}\")"
      ],
      "id": "695f1289",
      "execution_count": null,
      "outputs": []
    },
    {
      "cell_type": "markdown",
      "metadata": {
        "id": "063bc3c4"
      },
      "source": [
        "## XGBRegresion"
      ],
      "id": "063bc3c4"
    },
    {
      "cell_type": "markdown",
      "metadata": {
        "id": "5d307275"
      },
      "source": [
        "### Criptomoneda- Iota"
      ],
      "id": "5d307275"
    },
    {
      "cell_type": "code",
      "metadata": {
        "id": "adf42cb7"
      },
      "source": [
        "xgbr = xgb.XGBRegressor(verbosity=0)\n",
        "Model_Iota_xgbr=xgbr.fit(X_Iota_train_scaled,Y_Train_Iota)\n",
        "ypred_iota =Model_Iota_xgbr.predict(X_Iota_test_scaled)"
      ],
      "id": "adf42cb7",
      "execution_count": null,
      "outputs": []
    },
    {
      "cell_type": "code",
      "metadata": {
        "id": "c0b93f0e"
      },
      "source": [
        "error_mse = mean_squared_error(\n",
        "                y_true = Y_Test_Iota,\n",
        "                y_pred =ypred_iota\n",
        "            )\n",
        "\n",
        "rmse = np.sqrt(error_mse)\n",
        "pcorrelation(ypred_iota,Y_Test_Iota,'Iota')\n",
        "print('Test RMSE: %.3f' % rmse)\n",
        "print(f\"Error de test (mse): {error_mse}\")"
      ],
      "id": "c0b93f0e",
      "execution_count": null,
      "outputs": []
    },
    {
      "cell_type": "markdown",
      "metadata": {
        "id": "def2be63"
      },
      "source": [
        "### Criptomoneda- Maker"
      ],
      "id": "def2be63"
    },
    {
      "cell_type": "code",
      "metadata": {
        "id": "e96a9c1b"
      },
      "source": [
        "xgbr = xgb.XGBRegressor(verbosity=0)\n",
        "Model_Mak_xgbr=xgbr.fit(X_Mak_train_scaled,Y_Train_Mak)\n",
        "ypred_Mak =Model_Iota_xgbr.predict(X_Mak_test_scaled)"
      ],
      "id": "e96a9c1b",
      "execution_count": null,
      "outputs": []
    },
    {
      "cell_type": "code",
      "metadata": {
        "id": "0fe14f9c"
      },
      "source": [
        "error_mse = mean_squared_error(\n",
        "                y_true = Y_Test_Mak,\n",
        "                y_pred =ypred_Mak\n",
        "            )\n",
        "\n",
        "rmse = np.sqrt(error_mse)\n",
        "pcorrelation(ypred_Mak,Y_Test_Mak,'Maker')\n",
        "print('Test RMSE: %.3f' % rmse)\n",
        "print(f\"Error de test (mse): {error_mse}\")"
      ],
      "id": "0fe14f9c",
      "execution_count": null,
      "outputs": []
    },
    {
      "cell_type": "markdown",
      "metadata": {
        "id": "385d0d4f"
      },
      "source": [
        "# Bibliografia\n",
        "* https://www.kaggle.com/c/g-research-crypto-forecasting/overview/evaluation\n",
        "* https://www.kaggle.com/cstein06/tutorial-to-the-g-research-crypto-competition\n",
        "* https://www.cienciadedatos.net/documentos/py27-forecasting-series-temporales-python-scikitlearn.html\n",
        "* https://joaquinamatrodrigo.github.io/skforecast/api/ForecasterAutoreg.html#skforecast.ForecasterAutoreg.ForecasterAutoreg.get_coef\n",
        "* https://facebook.github.io/prophet/docs/non-daily_data.html\n",
        "* https://www.statsmodels.org/dev/generated/statsmodels.tsa.arima.model.ARIMA.html"
      ],
      "id": "385d0d4f"
    },
    {
      "cell_type": "code",
      "metadata": {
        "id": "b28c50dc"
      },
      "source": [],
      "id": "b28c50dc",
      "execution_count": null,
      "outputs": []
    }
  ]
}